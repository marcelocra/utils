{
 "cells": [
  {
   "cell_type": "code",
   "execution_count": 3,
   "id": "749b886b-bef1-4ccf-b921-efec2c973025",
   "metadata": {},
   "outputs": [],
   "source": [
    "import { $ } from \"npm:zx\";\n",
    "import fs from \"node:fs\";"
   ]
  },
  {
   "cell_type": "code",
   "execution_count": 2,
   "id": "fc0e71ca",
   "metadata": {},
   "outputs": [
    {
     "data": {
      "text/plain": [
       "ProcessOutput {\n",
       "  stdout: 'Hello, world!\\n',\n",
       "  stderr: '',\n",
       "  signal: null,\n",
       "  exitCode: 0\n",
       "}"
      ]
     },
     "execution_count": 2,
     "metadata": {},
     "output_type": "execute_result"
    }
   ],
   "source": [
    "await $`echo \"Hello, world!\"`;"
   ]
  },
  {
   "cell_type": "code",
   "execution_count": 6,
   "id": "190e106b",
   "metadata": {},
   "outputs": [],
   "source": []
  }
 ],
 "metadata": {
  "kernelspec": {
   "display_name": "Deno",
   "language": "typescript",
   "name": "deno"
  },
  "language_info": {
   "file_extension": ".ts",
   "mimetype": "text/x.typescript",
   "name": "typescript",
   "nb_converter": "script",
   "pygments_lexer": "typescript",
   "version": "5.4.3"
  }
 },
 "nbformat": 4,
 "nbformat_minor": 5
}
