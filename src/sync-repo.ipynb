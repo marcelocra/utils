{
 "cells": [
  {
   "cell_type": "code",
   "execution_count": 1,
   "id": "749b886b-bef1-4ccf-b921-efec2c973025",
   "metadata": {},
   "outputs": [],
   "source": [
    "import { $ } from \"npm:zx\";\n",
    "import fs from \"node:fs\";"
   ]
  },
  {
   "cell_type": "code",
   "execution_count": 6,
   "id": "190e106b",
   "metadata": {},
   "outputs": [],
   "source": [
    "async function log(msg: any) {\n",
    "  \n",
    "}\n"
   ]
  },
  {
   "cell_type": "code",
   "execution_count": 7,
   "id": "9e2b475d",
   "metadata": {},
   "outputs": [
    {
     "name": "stdout",
     "output_type": "stream",
     "text": [
      "ProcessOutput {\n",
      "  stdout: 'hey\\n',\n",
      "  stderr: '',\n",
      "  signal: null,\n",
      "  exitCode: 0\n",
      "}\n"
     ]
    }
   ],
   "source": [
    "await log('hey')"
   ]
  }
 ],
 "metadata": {
  "kernelspec": {
   "display_name": "Deno",
   "language": "typescript",
   "name": "deno"
  },
  "language_info": {
   "file_extension": ".ts",
   "mimetype": "text/x.typescript",
   "name": "typescript",
   "nb_converter": "script",
   "pygments_lexer": "typescript",
   "version": "5.4.3"
  }
 },
 "nbformat": 4,
 "nbformat_minor": 5
}
