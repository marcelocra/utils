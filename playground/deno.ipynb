{
 "cells": [
  {
   "cell_type": "markdown",
   "id": "b79ecfbc",
   "metadata": {},
   "source": [
    "## Setup\n",
    "\n",
    "Imports stuff and defines constants and helper functions.\n"
   ]
  },
  {
   "cell_type": "markdown",
   "id": "a50453f6",
   "metadata": {},
   "source": [
    "### Imports\n"
   ]
  },
  {
   "cell_type": "code",
   "execution_count": 7,
   "id": "500d2dbe",
   "metadata": {},
   "outputs": [],
   "source": [
    "import { $ } from \"npm:zx\";\n",
    "import fs from \"node:fs\";\n"
   ]
  },
  {
   "cell_type": "markdown",
   "id": "b3be8a62",
   "metadata": {},
   "source": [
    "### Constants\n"
   ]
  },
  {
   "cell_type": "code",
   "execution_count": 8,
   "id": "749b886b-bef1-4ccf-b921-efec2c973025",
   "metadata": {},
   "outputs": [],
   "source": [
    "const DEBUG = true;\n"
   ]
  },
  {
   "cell_type": "markdown",
   "id": "cb7f9f63",
   "metadata": {},
   "source": [
    "### Helper functions\n"
   ]
  },
  {
   "cell_type": "code",
   "execution_count": 40,
   "id": "2e916bbc",
   "metadata": {},
   "outputs": [
    {
     "name": "stdout",
     "output_type": "stream",
     "text": [
      "{\n",
      "    \"thisIsANestedObject\": {\n",
      "        \"withNested\": {\n",
      "            \"stuff\": \"yep, nested\",\n",
      "            \"moreNesting\": {\n",
      "                \"doesItGetHere\": {\n",
      "                    \"notSure\": \"just tested... yes, it does!\"\n",
      "                }\n",
      "            }\n",
      "        }\n",
      "    }\n",
      "}\n"
     ]
    }
   ],
   "source": [
    "type Msg = string | object;\n",
    "\n",
    "function l(\n",
    "  msg: Msg,\n",
    "  opts?: { logFn?: (mgs: Msg) => void; logObjToStrFn?: (msg: Msg) => string }\n",
    ") {\n",
    "  if (!DEBUG) {\n",
    "    return;\n",
    "  }\n",
    "\n",
    "  const logFn = opts?.logFn ?? console.log;\n",
    "  const logObjToStrFn =\n",
    "    typeof msg === \"object\"\n",
    "      ? opts?.logObjToStrFn ??\n",
    "        ((theMsg: Msg) => JSON.stringify(theMsg, null, 4))\n",
    "      : (theMsg: Msg) => theMsg;\n",
    "\n",
    "  logFn(logObjToStrFn(msg));\n",
    "}\n",
    "\n",
    "l({\n",
    "  thisIsANestedObject: {\n",
    "    withNested: {\n",
    "      stuff: \"yep, nested\",\n",
    "      moreNesting: {\n",
    "        doesItGetHere: {\n",
    "          notSure: \"just tested... yes, it does!\",\n",
    "        },\n",
    "      },\n",
    "    },\n",
    "  },\n",
    "});\n"
   ]
  },
  {
   "cell_type": "markdown",
   "id": "676e9151",
   "metadata": {},
   "source": [
    "# Examples\n"
   ]
  },
  {
   "cell_type": "markdown",
   "id": "c7b521bd",
   "metadata": {},
   "source": [
    "## Using `zx`'s `$` function\n"
   ]
  },
  {
   "cell_type": "code",
   "execution_count": 41,
   "id": "6a6dcf31",
   "metadata": {},
   "outputs": [
    {
     "name": "stdout",
     "output_type": "stream",
     "text": [
      "Hello, world!\n",
      "total 40\n",
      "drwxrwxr-x  3 marcelocra marcelocra 4096 jun 24 12:20 .\n",
      "drwxrwxr-x 17 marcelocra marcelocra 4096 jun 24 12:20 ..\n",
      "-rwxrwxr-x  1 marcelocra marcelocra 2400 jun 23 03:31 bun.ts\n",
      "-rwxrwxr-x  1 marcelocra marcelocra   85 jun 23 03:31 cljs.js\n",
      "-rw-rw-r--  1 marcelocra marcelocra 4804 jun 24 13:15 deno.ipynb\n",
      "-rw-rw-r--  1 marcelocra marcelocra  349 jun 23 03:31 nbb.js\n",
      "-rwxrwxr-x  1 marcelocra marcelocra  708 jun 23 03:31 sync-repo.py\n",
      "-rwxrwxr-x  1 marcelocra marcelocra 1281 jun 23 03:31 sync-repo.sh\n",
      "drwxrwxr-x  2 marcelocra marcelocra 4096 jun 23 03:31 utils-clj-copy-in-js\n",
      "\n"
     ]
    }
   ],
   "source": [
    "l((await $`echo \"Hello, world!\"; ls -la .`).stdout);\n"
   ]
  },
  {
   "cell_type": "markdown",
   "id": "19793d0f",
   "metadata": {},
   "source": [
    "## `Deno.inspect` to print objects\n"
   ]
  },
  {
   "cell_type": "code",
   "execution_count": null,
   "id": "ddfee527-9f07-4954-8fe3-87ec34a77627",
   "metadata": {},
   "outputs": [],
   "source": [
    "Deno.inspect({\n",
    "  thisIsANestedObject: {\n",
    "    withNested: {\n",
    "      stuff: \"yep, nested\",\n",
    "      moreNesting: {\n",
    "        doesItGetHere: {\n",
    "          notSure: \"just tested... yep, it does!\",\n",
    "        },\n",
    "      },\n",
    "    },\n",
    "  },\n",
    "});\n"
   ]
  },
  {
   "attachments": {
    "ec6ddba1-b9b9-4979-a95a-f61080ac05b4.png": {
     "image/png": "[encoded data removed]"
    }
   },
   "cell_type": "markdown",
   "id": "651ac512-635d-465f-8c3b-b3b304b3afd6",
   "metadata": {},
   "source": [
    "![image.png](attachment:ec6ddba1-b9b9-4979-a95a-f61080ac05b4.png)"
   ]
  }
 ],
 "metadata": {
  "kernelspec": {
   "display_name": "Deno",
   "language": "typescript",
   "name": "deno"
  },
  "language_info": {
   "codemirror_mode": "typescript",
   "file_extension": ".ts",
   "mimetype": "text/x.typescript",
   "name": "typescript",
   "nbconvert_exporter": "script",
   "pygments_lexer": "typescript",
   "version": "5.4.5"
  }
 },
 "nbformat": 4,
 "nbformat_minor": 5
}
