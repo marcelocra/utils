{
 "cells": [
  {
   "cell_type": "code",
   "execution_count": 3,
   "metadata": {
    "dotnet_interactive": {
     "language": "fsharp"
    },
    "polyglot_notebook": {
     "kernelName": "fsharp"
    },
    "vscode": {
     "languageId": "polyglot-notebook"
    }
   },
   "outputs": [
    {
     "name": "stdout",
     "output_type": "stream",
     "text": [
      "hello world\n"
     ]
    }
   ],
   "source": [
    "printfn \"hello world\""
   ]
  },
  {
   "cell_type": "code",
   "execution_count": 14,
   "metadata": {
    "dotnet_interactive": {
     "language": "fsharp"
    },
    "polyglot_notebook": {
     "kernelName": "fsharp"
    },
    "vscode": {
     "languageId": "polyglot-notebook"
    }
   },
   "outputs": [],
   "source": [
    "open System.Diagnostics\n",
    "\n",
    "// Run provided shell command and return output on linux shell.\n",
    "let run cmd =\n",
    "    let proc = new Process()\n",
    "    proc.StartInfo.FileName <- \"/bin/bash\"\n",
    "    proc.StartInfo.Arguments <- sprintf \"-c \\\"%s\\\"\" cmd\n",
    "    proc.StartInfo.UseShellExecute <- false\n",
    "    proc.StartInfo.RedirectStandardOutput <- true\n",
    "    proc.StartInfo.RedirectStandardError <- true\n",
    "    proc.Start() |> ignore\n",
    "    let output = proc.StandardOutput.ReadToEnd()\n",
    "    let error = proc.StandardError.ReadToEnd()\n",
    "    proc.WaitForExit()\n",
    "    if proc.ExitCode <> 0 then\n",
    "        failwithf \"Failed to run %s\" error\n",
    "    output"
   ]
  },
  {
   "cell_type": "code",
   "execution_count": 18,
   "metadata": {
    "dotnet_interactive": {
     "language": "fsharp"
    },
    "polyglot_notebook": {
     "kernelName": "fsharp"
    },
    "vscode": {
     "languageId": "polyglot-notebook"
    }
   },
   "outputs": [
    {
     "ename": "Error",
     "evalue": "System.Exception: Failed to run \n   at Microsoft.FSharp.Core.PrintfModule.PrintFormatToStringThenFail@1448.Invoke(String message)\n   at FSI_0018.run(String cmd)\n   at <StartupCode$FSI_0022>.$FSI_0022.main@()\n   at System.RuntimeMethodHandle.InvokeMethod(Object target, Void** arguments, Signature sig, Boolean isConstructor)\n   at System.Reflection.MethodInvoker.Invoke(Object obj, IntPtr* args, BindingFlags invokeAttr)",
     "output_type": "error",
     "traceback": [
      "System.Exception: Failed to run \n",
      "   at Microsoft.FSharp.Core.PrintfModule.PrintFormatToStringThenFail@1448.Invoke(String message)\n",
      "   at FSI_0018.run(String cmd)\n",
      "   at <StartupCode$FSI_0022>.$FSI_0022.main@()\n",
      "   at System.RuntimeMethodHandle.InvokeMethod(Object target, Void** arguments, Signature sig, Boolean isConstructor)\n",
      "   at System.Reflection.MethodInvoker.Invoke(Object obj, IntPtr* args, BindingFlags invokeAttr)"
     ]
    }
   ],
   "source": [
    "run \"dotnet\""
   ]
  }
 ],
 "metadata": {
  "language_info": {
   "name": "csharp"
  },
  "orig_nbformat": 4
 },
 "nbformat": 4,
 "nbformat_minor": 2
}
